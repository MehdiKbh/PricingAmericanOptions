{
 "cells": [
  {
   "cell_type": "code",
   "execution_count": 6,
   "metadata": {},
   "outputs": [],
   "source": [
    "import numpy as np\n",
    "import scipy as sc\n",
    "import scipy.stats as st\n",
    "import pandas as pd\n",
    "\n",
    "import math\n",
    "import matplotlib.pyplot as plt\n",
    "import sys\n",
    "\n",
    "import time\n",
    "\n",
    "from StochasticProcess import *\n",
    "from LongstaffSchwarz import *"
   ]
  },
  {
   "cell_type": "markdown",
   "metadata": {},
   "source": [
    "## Longstaff Schwarz"
   ]
  },
  {
   "cell_type": "markdown",
   "metadata": {},
   "source": [
    "Classical polynomial Basis"
   ]
  },
  {
   "cell_type": "code",
   "execution_count": 7,
   "metadata": {},
   "outputs": [],
   "source": [
    "def basis_poly(x,k):\n",
    "    return np.power(x,k)"
   ]
  },
  {
   "cell_type": "markdown",
   "metadata": {},
   "source": [
    "##### Tests"
   ]
  },
  {
   "cell_type": "code",
   "execution_count": 8,
   "metadata": {},
   "outputs": [],
   "source": [
    "#Payoff Call\n",
    "def callPrice(x,k): return(max(x-k,0))"
   ]
  },
  {
   "cell_type": "code",
   "execution_count": 12,
   "metadata": {},
   "outputs": [
    {
     "name": "stdout",
     "output_type": "stream",
     "text": [
      "7.586221907079174\n",
      "Running time:  29.31965136528015\n"
     ]
    }
   ],
   "source": [
    "S = BS_model() #Standard BS (S0=100, sigma=.2, r=0, divs=0)\n",
    "#Try to price American Call Option for a standard BS (S=K=100, r=0) with 5 basis vectors (d=5)\n",
    "start = time.time()\n",
    "print(LongstaffSchwarz(S, T=1, nbSteps=100, nbSimuls=1000, d=5, basis_projection=basis_poly, payoff=callPrice, arguments_payoff=(100,)))\n",
    "print(\"Running time: \", time.time() - start)"
   ]
  },
  {
   "cell_type": "markdown",
   "metadata": {},
   "source": [
    "The price should be the price of the European call (see below).\n",
    "Nevertheless, given the small number of simulations, there is still a lot of variance"
   ]
  },
  {
   "cell_type": "code",
   "execution_count": 13,
   "metadata": {},
   "outputs": [
    {
     "data": {
      "text/plain": [
       "7.965567455405804"
      ]
     },
     "execution_count": 13,
     "metadata": {},
     "output_type": "execute_result"
    }
   ],
   "source": [
    "#Compare to the price of european option (which should be the same)\n",
    "S.computeCallPrice(100,1)"
   ]
  },
  {
   "cell_type": "markdown",
   "metadata": {},
   "source": [
    "What if we add dividends ?"
   ]
  },
  {
   "cell_type": "code",
   "execution_count": 14,
   "metadata": {},
   "outputs": [
    {
     "data": {
      "text/plain": [
       "4.92646299720192"
      ]
     },
     "execution_count": 14,
     "metadata": {},
     "output_type": "execute_result"
    }
   ],
   "source": [
    "S = BS_model(divs=.1)\n",
    "LongstaffSchwarz(S, T=1, nbSteps=100, nbSimuls=1000, d=5, basis_projection=basis_poly, payoff=callPrice, arguments_payoff=(100,))"
   ]
  },
  {
   "cell_type": "code",
   "execution_count": 15,
   "metadata": {},
   "outputs": [
    {
     "data": {
      "text/plain": [
       "3.753418388256833"
      ]
     },
     "execution_count": 15,
     "metadata": {},
     "output_type": "execute_result"
    }
   ],
   "source": [
    "S.computeCallPrice(100,1)"
   ]
  },
  {
   "cell_type": "markdown",
   "metadata": {},
   "source": [
    "American call becomes more expensive --> makes sense"
   ]
  },
  {
   "cell_type": "markdown",
   "metadata": {},
   "source": [
    "What about a put option ?"
   ]
  },
  {
   "cell_type": "code",
   "execution_count": 17,
   "metadata": {},
   "outputs": [],
   "source": [
    "#Put option payoff\n",
    "def putPrice(x,k): return(max(k-x,0))"
   ]
  },
  {
   "cell_type": "code",
   "execution_count": 18,
   "metadata": {},
   "outputs": [
    {
     "data": {
      "text/plain": [
       "6.9347530095631456"
      ]
     },
     "execution_count": 18,
     "metadata": {},
     "output_type": "execute_result"
    }
   ],
   "source": [
    "LongstaffSchwarz(BS_model(), T=1, nbSteps=100, nbSimuls=1000, d=5, basis_projection=basis_poly, payoff=putPrice, arguments_payoff=(100,))"
   ]
  },
  {
   "cell_type": "code",
   "execution_count": 19,
   "metadata": {},
   "outputs": [
    {
     "data": {
      "text/plain": [
       "7.965567455405804"
      ]
     },
     "execution_count": 19,
     "metadata": {},
     "output_type": "execute_result"
    }
   ],
   "source": [
    "BS_model().computePutPrice(K=100, T=1)"
   ]
  },
  {
   "cell_type": "markdown",
   "metadata": {},
   "source": [
    "We still have an under evaluation by the LS algorithm"
   ]
  },
  {
   "cell_type": "markdown",
   "metadata": {},
   "source": [
    "With dividends:"
   ]
  },
  {
   "cell_type": "code",
   "execution_count": 21,
   "metadata": {},
   "outputs": [
    {
     "data": {
      "text/plain": [
       "11.493735198762733"
      ]
     },
     "execution_count": 21,
     "metadata": {},
     "output_type": "execute_result"
    }
   ],
   "source": [
    "LongstaffSchwarz(BS_model(divs=.1), T=1, nbSteps=100, nbSimuls=1000, d=5, basis_projection=basis_poly, payoff=putPrice, arguments_payoff=(100,))"
   ]
  },
  {
   "cell_type": "code",
   "execution_count": 22,
   "metadata": {},
   "outputs": [
    {
     "data": {
      "text/plain": [
       "13.269676584660886"
      ]
     },
     "execution_count": 22,
     "metadata": {},
     "output_type": "execute_result"
    }
   ],
   "source": [
    "BS_model(divs=.1).computePutPrice(K=100, T=1)"
   ]
  },
  {
   "cell_type": "markdown",
   "metadata": {},
   "source": [
    "It looks like the projection on the canonique polynomial basis performs poorly and under-evaluate the price too much (the price is often less than the price of the european corresponding security)"
   ]
  },
  {
   "cell_type": "markdown",
   "metadata": {},
   "source": [
    "Let's evaluate the influence of the size of the basis in the case of the canonique polynomial basis, and the influence of the number of iterations, for N = 100 time steps"
   ]
  },
  {
   "cell_type": "code",
   "execution_count": 666,
   "metadata": {},
   "outputs": [],
   "source": [
    "\n",
    "#!!!!!!!!!!!Warning!!!!!!!!!!: This might (really) take a while - check my results above for an estimation of the running time\n",
    "\n",
    "\n",
    "D = np.arange(1, 6, 1)\n",
    "M = np.array([10, 100, 1000, 10000])\n",
    "means = np.zeros((len(D), len(M)))\n",
    "stdev = np.zeros((len(D), len(M)))\n",
    "times_means = np.zeros((len(D), len(M)))\n",
    "\n",
    "model = BS_model()\n",
    "\n",
    "\n",
    "start_total_time = time.time()\n",
    "\n",
    "for i in range(len(D)):\n",
    "    for j in range(len(M)):\n",
    "        \n",
    "        simuls = np.zeros(10)\n",
    "        for k in range(10):\n",
    "            start_time = time.time()\n",
    "            simuls[k] = LongstaffSchwarz(model, T=1, nbSteps=100, nbSimuls=M[j], d=D[i], basis_projection=basis_poly, payoff=callPrice, arguments_payoff=(100,))\n",
    "            times_means[i,j] += 0.1*(time.time() - start_time)\n",
    "            \n",
    "        #Time of these operations is negligible \n",
    "        means[i,j] = np.average(simuls)\n",
    "        stdev[i,j] = np.sqrt(np.var(simuls, ddof=1))\n",
    "            \n",
    "total_time=time.time() - start_total_time\n",
    "\n",
    "true_result = model.computeCallPrice(K=100,T=1)"
   ]
  },
  {
   "cell_type": "code",
   "execution_count": 669,
   "metadata": {},
   "outputs": [
    {
     "name": "stdout",
     "output_type": "stream",
     "text": [
      "Running time (minutes):  24.599308915932973\n"
     ]
    }
   ],
   "source": [
    "print(\"Running time (minutes): \",total_time/60.)"
   ]
  },
  {
   "cell_type": "code",
   "execution_count": 676,
   "metadata": {},
   "outputs": [
    {
     "data": {
      "text/html": [
       "<div>\n",
       "<style scoped>\n",
       "    .dataframe tbody tr th:only-of-type {\n",
       "        vertical-align: middle;\n",
       "    }\n",
       "\n",
       "    .dataframe tbody tr th {\n",
       "        vertical-align: top;\n",
       "    }\n",
       "\n",
       "    .dataframe thead th {\n",
       "        text-align: right;\n",
       "    }\n",
       "</style>\n",
       "<table border=\"1\" class=\"dataframe\">\n",
       "  <thead>\n",
       "    <tr style=\"text-align: right;\">\n",
       "      <th></th>\n",
       "      <th>10</th>\n",
       "      <th>100</th>\n",
       "      <th>1000</th>\n",
       "      <th>10000</th>\n",
       "    </tr>\n",
       "  </thead>\n",
       "  <tbody>\n",
       "    <tr>\n",
       "      <th>1</th>\n",
       "      <td>0.025432</td>\n",
       "      <td>0.232977</td>\n",
       "      <td>1.606804</td>\n",
       "      <td>15.908964</td>\n",
       "    </tr>\n",
       "    <tr>\n",
       "      <th>2</th>\n",
       "      <td>0.033021</td>\n",
       "      <td>0.199566</td>\n",
       "      <td>1.890849</td>\n",
       "      <td>22.022514</td>\n",
       "    </tr>\n",
       "    <tr>\n",
       "      <th>3</th>\n",
       "      <td>0.048176</td>\n",
       "      <td>0.253222</td>\n",
       "      <td>2.367267</td>\n",
       "      <td>27.207706</td>\n",
       "    </tr>\n",
       "    <tr>\n",
       "      <th>4</th>\n",
       "      <td>0.062333</td>\n",
       "      <td>0.307578</td>\n",
       "      <td>2.925778</td>\n",
       "      <td>32.146507</td>\n",
       "    </tr>\n",
       "    <tr>\n",
       "      <th>5</th>\n",
       "      <td>0.078191</td>\n",
       "      <td>0.373505</td>\n",
       "      <td>3.378463</td>\n",
       "      <td>36.526902</td>\n",
       "    </tr>\n",
       "  </tbody>\n",
       "</table>\n",
       "</div>"
      ],
      "text/plain": [
       "      10        100       1000       10000\n",
       "1  0.025432  0.232977  1.606804  15.908964\n",
       "2  0.033021  0.199566  1.890849  22.022514\n",
       "3  0.048176  0.253222  2.367267  27.207706\n",
       "4  0.062333  0.307578  2.925778  32.146507\n",
       "5  0.078191  0.373505  3.378463  36.526902"
      ]
     },
     "execution_count": 676,
     "metadata": {},
     "output_type": "execute_result"
    }
   ],
   "source": [
    "#Average running times (in seconds)\n",
    "pd.DataFrame(times_means, index=D, columns=M)"
   ]
  },
  {
   "cell_type": "code",
   "execution_count": 673,
   "metadata": {},
   "outputs": [
    {
     "data": {
      "text/html": [
       "<div>\n",
       "<style scoped>\n",
       "    .dataframe tbody tr th:only-of-type {\n",
       "        vertical-align: middle;\n",
       "    }\n",
       "\n",
       "    .dataframe tbody tr th {\n",
       "        vertical-align: top;\n",
       "    }\n",
       "\n",
       "    .dataframe thead th {\n",
       "        text-align: right;\n",
       "    }\n",
       "</style>\n",
       "<table border=\"1\" class=\"dataframe\">\n",
       "  <thead>\n",
       "    <tr style=\"text-align: right;\">\n",
       "      <th></th>\n",
       "      <th>10</th>\n",
       "      <th>100</th>\n",
       "      <th>1000</th>\n",
       "      <th>10000</th>\n",
       "    </tr>\n",
       "  </thead>\n",
       "  <tbody>\n",
       "    <tr>\n",
       "      <th>1</th>\n",
       "      <td>5.343280</td>\n",
       "      <td>5.481413</td>\n",
       "      <td>5.104498</td>\n",
       "      <td>5.057530</td>\n",
       "    </tr>\n",
       "    <tr>\n",
       "      <th>2</th>\n",
       "      <td>10.460480</td>\n",
       "      <td>7.687859</td>\n",
       "      <td>7.026671</td>\n",
       "      <td>6.998446</td>\n",
       "    </tr>\n",
       "    <tr>\n",
       "      <th>3</th>\n",
       "      <td>11.712747</td>\n",
       "      <td>8.247258</td>\n",
       "      <td>7.814078</td>\n",
       "      <td>7.520951</td>\n",
       "    </tr>\n",
       "    <tr>\n",
       "      <th>4</th>\n",
       "      <td>8.613475</td>\n",
       "      <td>9.040933</td>\n",
       "      <td>7.731983</td>\n",
       "      <td>7.486816</td>\n",
       "    </tr>\n",
       "    <tr>\n",
       "      <th>5</th>\n",
       "      <td>11.029250</td>\n",
       "      <td>8.777395</td>\n",
       "      <td>7.486101</td>\n",
       "      <td>7.472610</td>\n",
       "    </tr>\n",
       "  </tbody>\n",
       "</table>\n",
       "</div>"
      ],
      "text/plain": [
       "       10        100       1000      10000\n",
       "1   5.343280  5.481413  5.104498  5.057530\n",
       "2  10.460480  7.687859  7.026671  6.998446\n",
       "3  11.712747  8.247258  7.814078  7.520951\n",
       "4   8.613475  9.040933  7.731983  7.486816\n",
       "5  11.029250  8.777395  7.486101  7.472610"
      ]
     },
     "execution_count": 673,
     "metadata": {},
     "output_type": "execute_result"
    }
   ],
   "source": [
    "#Means\n",
    "pd.DataFrame(means, index=D, columns=M)"
   ]
  },
  {
   "cell_type": "code",
   "execution_count": 678,
   "metadata": {},
   "outputs": [
    {
     "name": "stdout",
     "output_type": "stream",
     "text": [
      "Correct price:  7.808358491192365\n"
     ]
    }
   ],
   "source": [
    "print(\"Correct price: \", true_result)"
   ]
  },
  {
   "cell_type": "code",
   "execution_count": 677,
   "metadata": {},
   "outputs": [
    {
     "data": {
      "text/html": [
       "<div>\n",
       "<style scoped>\n",
       "    .dataframe tbody tr th:only-of-type {\n",
       "        vertical-align: middle;\n",
       "    }\n",
       "\n",
       "    .dataframe tbody tr th {\n",
       "        vertical-align: top;\n",
       "    }\n",
       "\n",
       "    .dataframe thead th {\n",
       "        text-align: right;\n",
       "    }\n",
       "</style>\n",
       "<table border=\"1\" class=\"dataframe\">\n",
       "  <thead>\n",
       "    <tr style=\"text-align: right;\">\n",
       "      <th></th>\n",
       "      <th>10</th>\n",
       "      <th>100</th>\n",
       "      <th>1000</th>\n",
       "      <th>10000</th>\n",
       "    </tr>\n",
       "  </thead>\n",
       "  <tbody>\n",
       "    <tr>\n",
       "      <th>1</th>\n",
       "      <td>1.657835</td>\n",
       "      <td>0.896406</td>\n",
       "      <td>0.175822</td>\n",
       "      <td>0.090268</td>\n",
       "    </tr>\n",
       "    <tr>\n",
       "      <th>2</th>\n",
       "      <td>4.834249</td>\n",
       "      <td>0.945276</td>\n",
       "      <td>0.218042</td>\n",
       "      <td>0.089543</td>\n",
       "    </tr>\n",
       "    <tr>\n",
       "      <th>3</th>\n",
       "      <td>3.958621</td>\n",
       "      <td>1.044746</td>\n",
       "      <td>0.480108</td>\n",
       "      <td>0.105985</td>\n",
       "    </tr>\n",
       "    <tr>\n",
       "      <th>4</th>\n",
       "      <td>2.580378</td>\n",
       "      <td>0.595337</td>\n",
       "      <td>0.281235</td>\n",
       "      <td>0.091064</td>\n",
       "    </tr>\n",
       "    <tr>\n",
       "      <th>5</th>\n",
       "      <td>2.704211</td>\n",
       "      <td>1.355896</td>\n",
       "      <td>0.262980</td>\n",
       "      <td>0.119394</td>\n",
       "    </tr>\n",
       "  </tbody>\n",
       "</table>\n",
       "</div>"
      ],
      "text/plain": [
       "      10        100       1000      10000\n",
       "1  1.657835  0.896406  0.175822  0.090268\n",
       "2  4.834249  0.945276  0.218042  0.089543\n",
       "3  3.958621  1.044746  0.480108  0.105985\n",
       "4  2.580378  0.595337  0.281235  0.091064\n",
       "5  2.704211  1.355896  0.262980  0.119394"
      ]
     },
     "execution_count": 677,
     "metadata": {},
     "output_type": "execute_result"
    }
   ],
   "source": [
    "#Stdevs\n",
    "pd.DataFrame(stdev, index=D, columns=M)"
   ]
  },
  {
   "cell_type": "markdown",
   "metadata": {},
   "source": [
    "##### Influence of the polynomial basis"
   ]
  },
  {
   "cell_type": "code",
   "execution_count": 23,
   "metadata": {},
   "outputs": [],
   "source": [
    "def Laguerre_polyn(x, k):\n",
    "    if(k<0):\n",
    "        sys.exit(\"k should be a positive integer\")\n",
    "    if(k==0):\n",
    "        return 1\n",
    "    elif (k==1):\n",
    "        return 1-x\n",
    "    else:\n",
    "        n = k-1\n",
    "        return ( -((x-2*n - 1)*Laguerre_polyn(x,k-1) + n*Laguerre_polyn(x,k-2))/float(n+1) )\n",
    "    \n",
    "def Laguerre_polyn_exp(x,k):\n",
    "    return math.exp(-x/2)*Laguerre_polyn(x,k)"
   ]
  },
  {
   "cell_type": "code",
   "execution_count": 48,
   "metadata": {
    "scrolled": true
   },
   "outputs": [
    {
     "name": "stdout",
     "output_type": "stream",
     "text": [
      "7.531914079256549\n",
      "Running Time:  114.3780403137207\n"
     ]
    }
   ],
   "source": [
    "start = time.time()\n",
    "print(LongstaffSchwarz(BS_model(), T=1, nbSteps=100, nbSimuls=10000, d=4, basis_projection=Laguerre_polyn, payoff=callPrice, arguments_payoff=(100,)))\n",
    "print(\"Running Time: \", time.time()-start)"
   ]
  },
  {
   "cell_type": "code",
   "execution_count": 40,
   "metadata": {},
   "outputs": [
    {
     "name": "stdout",
     "output_type": "stream",
     "text": [
      "True price=  7.808358491192365\n"
     ]
    }
   ],
   "source": [
    "print(\"True price= \", BS_model().computeCallPrice(100,1))"
   ]
  },
  {
   "cell_type": "code",
   "execution_count": 41,
   "metadata": {},
   "outputs": [
    {
     "name": "stdout",
     "output_type": "stream",
     "text": [
      "7.605212204364818\n",
      "Running Time:  118.1510899066925\n"
     ]
    }
   ],
   "source": [
    "start = time.time()\n",
    "print(LS.LongstaffSchwarz(SP.BS_model(), T=1, nbSteps=100, nbSimuls=10000, d=4, basis_projection=basis_poly, payoff=callPrice, arguments_payoff=(100,)))\n",
    "print(\"Running Time: \", time.time()-start)"
   ]
  },
  {
   "cell_type": "markdown",
   "metadata": {},
   "source": [
    "### Check Longstaff & Schwarz results (2001)"
   ]
  },
  {
   "cell_type": "code",
   "execution_count": 43,
   "metadata": {},
   "outputs": [
    {
     "data": {
      "text/plain": [
       "3.84430779159684"
      ]
     },
     "execution_count": 43,
     "metadata": {},
     "output_type": "execute_result"
    }
   ],
   "source": [
    "model1 = BS_model(S0=36, vol=.2, r=.06)\n",
    "model1.computePutPrice(40,1.)"
   ]
  },
  {
   "cell_type": "code",
   "execution_count": 70,
   "metadata": {},
   "outputs": [
    {
     "name": "stdout",
     "output_type": "stream",
     "text": [
      "4.4623205003199455\n",
      "Running Time:  22.443670988082886\n"
     ]
    }
   ],
   "source": [
    "start = time.time()\n",
    "print(LongstaffSchwarz(model1, T=1, nbSteps=50, nbSimuls=10000, d=3, basis_projection=Laguerre_polyn, payoff=putPrice, arguments_payoff=(40,)))\n",
    "print(\"Running Time: \", time.time()-start)"
   ]
  },
  {
   "cell_type": "code",
   "execution_count": 71,
   "metadata": {},
   "outputs": [
    {
     "name": "stdout",
     "output_type": "stream",
     "text": [
      "4.133054961792035\n",
      "Running Time:  31.87619185447693\n"
     ]
    }
   ],
   "source": [
    "start = time.time()\n",
    "print(LongstaffSchwarz(model1, T=1, nbSteps=50, nbSimuls=10000, d=3, basis_projection=Laguerre_polyn_exp, payoff=putPrice, arguments_payoff=(40,)))\n",
    "print(\"Running Time: \", time.time()-start)"
   ]
  },
  {
   "cell_type": "markdown",
   "metadata": {},
   "source": [
    "Classical Laguerre Polynomials gives a better regression estimate"
   ]
  },
  {
   "cell_type": "code",
   "execution_count": 73,
   "metadata": {},
   "outputs": [
    {
     "name": "stdout",
     "output_type": "stream",
     "text": [
      "4.413709155947841\n",
      "Running Time:  211.6997721195221\n"
     ]
    }
   ],
   "source": [
    "start = time.time()\n",
    "print(LongstaffSchwarz(model1, T=1, nbSteps=50, nbSimuls=100000, d=3, basis_projection=Laguerre_polyn, payoff=putPrice, arguments_payoff=(40,)))\n",
    "print(\"Running Time: \", time.time()-start)"
   ]
  },
  {
   "cell_type": "markdown",
   "metadata": {},
   "source": [
    "Convergence was enough with 10000 simulations. What if we add some time steps ?"
   ]
  },
  {
   "cell_type": "code",
   "execution_count": 74,
   "metadata": {},
   "outputs": [
    {
     "name": "stdout",
     "output_type": "stream",
     "text": [
      "4.384821976164643\n",
      "Running Time:  44.06898260116577\n"
     ]
    }
   ],
   "source": [
    "start = time.time()\n",
    "print(LongstaffSchwarz(model1, T=1, nbSteps=100, nbSimuls=10000, d=3, basis_projection=Laguerre_polyn, payoff=putPrice, arguments_payoff=(40,)))\n",
    "print(\"Running Time: \", time.time()-start)"
   ]
  },
  {
   "cell_type": "markdown",
   "metadata": {},
   "source": [
    "No significant difference. With 2 basis functions?"
   ]
  },
  {
   "cell_type": "code",
   "execution_count": 75,
   "metadata": {},
   "outputs": [
    {
     "name": "stdout",
     "output_type": "stream",
     "text": [
      "4.295047980674473\n",
      "Running Time:  9.808556318283081\n"
     ]
    }
   ],
   "source": [
    "start = time.time()\n",
    "print(LongstaffSchwarz(model1, T=1, nbSteps=50, nbSimuls=10000, d=2, basis_projection=Laguerre_polyn, payoff=putPrice, arguments_payoff=(40,)))\n",
    "print(\"Running Time: \", time.time()-start)"
   ]
  },
  {
   "cell_type": "markdown",
   "metadata": {},
   "source": [
    "The result diverges - underfitting"
   ]
  },
  {
   "cell_type": "markdown",
   "metadata": {},
   "source": [
    "With classical basis:"
   ]
  },
  {
   "cell_type": "code",
   "execution_count": 76,
   "metadata": {},
   "outputs": [
    {
     "name": "stdout",
     "output_type": "stream",
     "text": [
      "4.393381331258802\n",
      "Running Time:  36.31278967857361\n"
     ]
    }
   ],
   "source": [
    "start = time.time()\n",
    "print(LongstaffSchwarz(model1, T=1, nbSteps=50, nbSimuls=10000, d=3, basis_projection=basis_poly, payoff=putPrice, arguments_payoff=(40,)))\n",
    "print(\"Running Time: \", time.time()-start)"
   ]
  },
  {
   "cell_type": "markdown",
   "metadata": {},
   "source": [
    "Laguerre polyn give a better estimate"
   ]
  },
  {
   "cell_type": "code",
   "execution_count": 78,
   "metadata": {},
   "outputs": [
    {
     "name": "stdout",
     "output_type": "stream",
     "text": [
      "4.668705957802519\n",
      "Running Time:  46.784849643707275\n"
     ]
    }
   ],
   "source": [
    "start = time.time()\n",
    "print(LongstaffSchwarz(model1, T=2, nbSteps=100, nbSimuls=10000, d=3, basis_projection=Laguerre_polyn, payoff=putPrice, arguments_payoff=(40,)))\n",
    "print(\"Running Time: \", time.time()-start)"
   ]
  }
 ],
 "metadata": {
  "kernelspec": {
   "display_name": "Python 3",
   "language": "python",
   "name": "python3"
  },
  "language_info": {
   "codemirror_mode": {
    "name": "ipython",
    "version": 3
   },
   "file_extension": ".py",
   "mimetype": "text/x-python",
   "name": "python",
   "nbconvert_exporter": "python",
   "pygments_lexer": "ipython3",
   "version": "3.7.3"
  }
 },
 "nbformat": 4,
 "nbformat_minor": 2
}
